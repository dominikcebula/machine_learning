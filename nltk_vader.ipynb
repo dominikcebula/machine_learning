{
 "cells": [
  {
   "cell_type": "code",
   "execution_count": null,
   "metadata": {},
   "outputs": [],
   "source": [
    "!pip install pyprind"
   ]
  },
  {
   "cell_type": "code",
   "execution_count": null,
   "metadata": {},
   "outputs": [],
   "source": [
    "import nltk\n",
    "\n",
    "nltk.download('vader_lexicon')"
   ]
  },
  {
   "cell_type": "code",
   "execution_count": null,
   "metadata": {},
   "outputs": [],
   "source": [
    "import pandas as pd\n",
    "\n",
    "df = pd.read_excel(io = './IssueReport.xls', sheet_name = 'Raw')\n",
    "df = df[['SR NUMBER', 'SR DESCRIPTION']]\n",
    "df_row_count = len(df.index)\n",
    "\n",
    "df.head(5)"
   ]
  },
  {
   "cell_type": "code",
   "execution_count": null,
   "metadata": {},
   "outputs": [],
   "source": [
    "import re\n",
    "\n",
    "def preprocessor(text):\n",
    "    text = re.sub('<[^>]*>', '', text)\n",
    "    text = re.sub('\\n', ' ', text)\n",
    "    text = re.sub('[^a-zA-Z\\ \\?\\!\\,\\.\\:\\;\\)\\(\\)]', '', text)\n",
    "    text = re.sub('[0-9]', '', text)\n",
    "    text = re.sub('\\ +', ' ', text)\n",
    "    text = text.strip()\n",
    "    return text"
   ]
  },
  {
   "cell_type": "code",
   "execution_count": null,
   "metadata": {},
   "outputs": [],
   "source": [
    "import pyprind\n",
    "\n",
    "pbar = pyprind.ProgBar(df_row_count)\n",
    "\n",
    "for index, row in df.iterrows():\n",
    "    df.at[index, 'SR DESCRIPTION CLEAN'] = preprocessor(row['SR DESCRIPTION'])\n",
    "    pbar.update()\n",
    "    \n",
    "df.head(5)"
   ]
  },
  {
   "cell_type": "code",
   "execution_count": null,
   "metadata": {},
   "outputs": [],
   "source": [
    "from nltk.sentiment.vader import SentimentIntensityAnalyzer\n",
    "\n",
    "sentimentAnalyzer = SentimentIntensityAnalyzer()\n",
    "pbar = pyprind.ProgBar(df_row_count)\n",
    "\n",
    "for index, row in df.iterrows():\n",
    "    polarity = sentimentAnalyzer.polarity_scores(df.at[index, 'SR DESCRIPTION CLEAN'])\n",
    "    df.at[index, 'SR SENTIMENT NEG'] = polarity['neg']\n",
    "    df.at[index, 'SR SENTIMENT NEU'] = polarity['neu']\n",
    "    df.at[index, 'SR SENTIMENT POS'] = polarity['pos']\n",
    "    df.at[index, 'SR SENTIMENT COMPUND'] = polarity['compound']\n",
    "    pbar.update()"
   ]
  },
  {
   "cell_type": "code",
   "execution_count": null,
   "metadata": {},
   "outputs": [],
   "source": [
    "df = df.sort_values(by = 'SR SENTIMENT NEG', ascending = False)\n",
    "\n",
    "df.head(5)"
   ]
  },
  {
   "cell_type": "code",
   "execution_count": null,
   "metadata": {},
   "outputs": [],
   "source": [
    "df.to_excel('./IssueReport_Sentiment.xls')"
   ]
  },
  {
   "cell_type": "code",
   "execution_count": 19,
   "metadata": {},
   "outputs": [
    {
     "data": {
      "image/png": "[encoded data removed]",
      "text/plain": [
       "<Figure size 720x432 with 1 Axes>"
      ]
     },
     "metadata": {},
     "output_type": "display_data"
    }
   ],
   "source": [
    "import matplotlib.pyplot as plt\n",
    "import numpy as np\n",
    "\n",
    "index = np.arange(df.shape[0])\n",
    "\n",
    "plt.figure(figsize=(10, 6))\n",
    "plt.bar(index, df['SR SENTIMENT NEG'], 1, color=\"red\")\n",
    "plt.show()"
   ]
  },
  {
   "cell_type": "code",
   "execution_count": 15,
   "metadata": {},
   "outputs": [
    {
     "name": "stdout",
     "output_type": "stream",
     "text": [
      "[nltk_data] Downloading package stopwords to\n",
      "[nltk_data]     /home/ec2-user/nltk_data...\n",
      "[nltk_data]   Package stopwords is already up-to-date!\n"
     ]
    },
    {
     "data": {
      "text/html": [
       "<div>\n",
       "<style scoped>\n",
       "    .dataframe tbody tr th:only-of-type {\n",
       "        vertical-align: middle;\n",
       "    }\n",
       "\n",
       "    .dataframe tbody tr th {\n",
       "        vertical-align: top;\n",
       "    }\n",
       "\n",
       "    .dataframe thead th {\n",
       "        text-align: right;\n",
       "    }\n",
       "</style>\n",
       "<table border=\"1\" class=\"dataframe\">\n",
       "  <thead>\n",
       "    <tr style=\"text-align: right;\">\n",
       "      <th></th>\n",
       "      <th>WORD</th>\n",
       "      <th>NEG</th>\n",
       "    </tr>\n",
       "  </thead>\n",
       "  <tbody>\n",
       "    <tr>\n",
       "      <th>26</th>\n",
       "      <td>fatal</td>\n",
       "      <td>1.0</td>\n",
       "    </tr>\n",
       "    <tr>\n",
       "      <th>128</th>\n",
       "      <td>doubt</td>\n",
       "      <td>1.0</td>\n",
       "    </tr>\n",
       "    <tr>\n",
       "      <th>143</th>\n",
       "      <td>warn</td>\n",
       "      <td>1.0</td>\n",
       "    </tr>\n",
       "    <tr>\n",
       "      <th>172</th>\n",
       "      <td>critic</td>\n",
       "      <td>1.0</td>\n",
       "    </tr>\n",
       "    <tr>\n",
       "      <th>185</th>\n",
       "      <td>delay</td>\n",
       "      <td>1.0</td>\n",
       "    </tr>\n",
       "  </tbody>\n",
       "</table>\n",
       "</div>"
      ],
      "text/plain": [
       "       WORD  NEG\n",
       "26    fatal  1.0\n",
       "128   doubt  1.0\n",
       "143    warn  1.0\n",
       "172  critic  1.0\n",
       "185   delay  1.0"
      ]
     },
     "execution_count": 15,
     "metadata": {},
     "output_type": "execute_result"
    }
   ],
   "source": [
    "from nltk.stem.porter import PorterStemmer\n",
    "from nltk.corpus import stopwords\n",
    "\n",
    "porter = PorterStemmer()\n",
    "nltk.download('stopwords')\n",
    "stop = stopwords.words('english')\n",
    "\n",
    "def get_words():\n",
    "    description_df = df[df['SR SENTIMENT NEG'] > 0.2]\n",
    "    words = ' '.join(description_df['SR DESCRIPTION CLEAN'])\n",
    "    words = words.lower()\n",
    "    words = preprocessor(words)\n",
    "    words = re.sub('[^a-z\\ ]', '', words)\n",
    "    words = tokenizer_porter(words)\n",
    "    words = [w for w in words if w not in stop]\n",
    "    words = set(words)\n",
    "    return list(words)\n",
    "\n",
    "def tokenizer_porter(text):\n",
    "    return [porter.stem(word) for word in text.split()]\n",
    "\n",
    "def get_words_df():\n",
    "    word_set = get_words()\n",
    "    data = {'WORD': word_set}\n",
    "    words_df = pd.DataFrame(data)\n",
    "    \n",
    "    for index, row in words_df.iterrows():\n",
    "        polarity = sentimentAnalyzer.polarity_scores(words_df.at[index, 'WORD'])\n",
    "        words_df.at[index, 'NEG'] = polarity['neg']\n",
    "    \n",
    "    words_df = words_df[words_df['NEG'] > 0]\n",
    "    \n",
    "    return words_df\n",
    "    \n",
    "words_df = get_words_df()\n",
    "words_df.head(5)"
   ]
  },
  {
   "cell_type": "code",
   "execution_count": 16,
   "metadata": {},
   "outputs": [
    {
     "data": {
      "text/html": [
       "<div>\n",
       "<style scoped>\n",
       "    .dataframe tbody tr th:only-of-type {\n",
       "        vertical-align: middle;\n",
       "    }\n",
       "\n",
       "    .dataframe tbody tr th {\n",
       "        vertical-align: top;\n",
       "    }\n",
       "\n",
       "    .dataframe thead th {\n",
       "        text-align: right;\n",
       "    }\n",
       "</style>\n",
       "<table border=\"1\" class=\"dataframe\">\n",
       "  <thead>\n",
       "    <tr style=\"text-align: right;\">\n",
       "      <th></th>\n",
       "      <th>WORD</th>\n",
       "      <th>NEG</th>\n",
       "    </tr>\n",
       "  </thead>\n",
       "  <tbody>\n",
       "    <tr>\n",
       "      <th>26</th>\n",
       "      <td>fatal</td>\n",
       "      <td>1.0</td>\n",
       "    </tr>\n",
       "    <tr>\n",
       "      <th>128</th>\n",
       "      <td>doubt</td>\n",
       "      <td>1.0</td>\n",
       "    </tr>\n",
       "    <tr>\n",
       "      <th>143</th>\n",
       "      <td>warn</td>\n",
       "      <td>1.0</td>\n",
       "    </tr>\n",
       "    <tr>\n",
       "      <th>172</th>\n",
       "      <td>critic</td>\n",
       "      <td>1.0</td>\n",
       "    </tr>\n",
       "    <tr>\n",
       "      <th>185</th>\n",
       "      <td>delay</td>\n",
       "      <td>1.0</td>\n",
       "    </tr>\n",
       "    <tr>\n",
       "      <th>189</th>\n",
       "      <td>reject</td>\n",
       "      <td>1.0</td>\n",
       "    </tr>\n",
       "    <tr>\n",
       "      <th>205</th>\n",
       "      <td>wrong</td>\n",
       "      <td>1.0</td>\n",
       "    </tr>\n",
       "    <tr>\n",
       "      <th>257</th>\n",
       "      <td>interrupt</td>\n",
       "      <td>1.0</td>\n",
       "    </tr>\n",
       "    <tr>\n",
       "      <th>258</th>\n",
       "      <td>complain</td>\n",
       "      <td>1.0</td>\n",
       "    </tr>\n",
       "    <tr>\n",
       "      <th>275</th>\n",
       "      <td>harm</td>\n",
       "      <td>1.0</td>\n",
       "    </tr>\n",
       "    <tr>\n",
       "      <th>328</th>\n",
       "      <td>spam</td>\n",
       "      <td>1.0</td>\n",
       "    </tr>\n",
       "    <tr>\n",
       "      <th>445</th>\n",
       "      <td>destruct</td>\n",
       "      <td>1.0</td>\n",
       "    </tr>\n",
       "    <tr>\n",
       "      <th>484</th>\n",
       "      <td>stop</td>\n",
       "      <td>1.0</td>\n",
       "    </tr>\n",
       "    <tr>\n",
       "      <th>513</th>\n",
       "      <td>fail</td>\n",
       "      <td>1.0</td>\n",
       "    </tr>\n",
       "    <tr>\n",
       "      <th>598</th>\n",
       "      <td>error</td>\n",
       "      <td>1.0</td>\n",
       "    </tr>\n",
       "    <tr>\n",
       "      <th>626</th>\n",
       "      <td>conflict</td>\n",
       "      <td>1.0</td>\n",
       "    </tr>\n",
       "    <tr>\n",
       "      <th>738</th>\n",
       "      <td>broken</td>\n",
       "      <td>1.0</td>\n",
       "    </tr>\n",
       "    <tr>\n",
       "      <th>758</th>\n",
       "      <td>block</td>\n",
       "      <td>1.0</td>\n",
       "    </tr>\n",
       "    <tr>\n",
       "      <th>780</th>\n",
       "      <td>stuck</td>\n",
       "      <td>1.0</td>\n",
       "    </tr>\n",
       "    <tr>\n",
       "      <th>816</th>\n",
       "      <td>problem</td>\n",
       "      <td>1.0</td>\n",
       "    </tr>\n",
       "  </tbody>\n",
       "</table>\n",
       "</div>"
      ],
      "text/plain": [
       "          WORD  NEG\n",
       "26       fatal  1.0\n",
       "128      doubt  1.0\n",
       "143       warn  1.0\n",
       "172     critic  1.0\n",
       "185      delay  1.0\n",
       "189     reject  1.0\n",
       "205      wrong  1.0\n",
       "257  interrupt  1.0\n",
       "258   complain  1.0\n",
       "275       harm  1.0\n",
       "328       spam  1.0\n",
       "445   destruct  1.0\n",
       "484       stop  1.0\n",
       "513       fail  1.0\n",
       "598      error  1.0\n",
       "626   conflict  1.0\n",
       "738     broken  1.0\n",
       "758      block  1.0\n",
       "780      stuck  1.0\n",
       "816    problem  1.0"
      ]
     },
     "execution_count": 16,
     "metadata": {},
     "output_type": "execute_result"
    }
   ],
   "source": [
    "missed_words = [\n",
    "'kill',\n",
    "'sin',\n",
    "'suspend',\n",
    "'restrict',\n",
    "'miss',\n",
    "'low',\n",
    "'argument',\n",
    "'scream',\n",
    "'dupe',\n",
    "'distress',\n",
    "'cancel',\n",
    "'demand',\n",
    "'exhaust',\n",
    "'lower',\n",
    "'kill',\n",
    "'dead',\n",
    "'avoid',\n",
    "'mad'\n",
    "];\n",
    "\n",
    "words_df = words_df[~words_df['WORD'].isin(missed_words)]\n",
    "words_df"
   ]
  },
  {
   "cell_type": "code",
   "execution_count": null,
   "metadata": {},
   "outputs": [],
   "source": [
    "words_df.to_excel('./IssueReport_Sentiment_Words.xls')"
   ]
  },
  {
   "cell_type": "code",
   "execution_count": 17,
   "metadata": {},
   "outputs": [
    {
     "name": "stdout",
     "output_type": "stream",
     "text": [
      "Negative words\n",
      "{u'delay': 4, u'harm': 9, u'spam': 10, u'stuck': 18, u'problem': 19, u'error': 14, u'stop': 12, u'wrong': 6, u'destruct': 11, u'warn': 2, u'fail': 13, u'critic': 3, u'doubt': 1, u'block': 17, u'reject': 5, u'interrupt': 7, u'broken': 16, u'fatal': 0, u'complain': 8, u'conflict': 15}\n"
     ]
    }
   ],
   "source": [
    "print 'Negative words'\n",
    "\n",
    "negative_words = words_df['WORD']\n",
    "negative_words_dict = {}\n",
    "i = 0\n",
    "for word in negative_words:\n",
    "    negative_words_dict[word] = i\n",
    "    i = i + 1\n",
    "\n",
    "print negative_words_dict"
   ]
  },
  {
   "cell_type": "code",
   "execution_count": null,
   "metadata": {},
   "outputs": [],
   "source": []
  }
 ],
 "metadata": {
  "kernelspec": {
   "display_name": "conda_python2",
   "language": "python",
   "name": "conda_python2"
  },
  "language_info": {
   "codemirror_mode": {
    "name": "ipython",
    "version": 2
   },
   "file_extension": ".py",
   "mimetype": "text/x-python",
   "name": "python",
   "nbconvert_exporter": "python",
   "pygments_lexer": "ipython2",
   "version": "2.7.15"
  }
 },
 "nbformat": 4,
 "nbformat_minor": 2
}

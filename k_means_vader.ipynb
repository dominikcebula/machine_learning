{
 "cells": [
  {
   "cell_type": "code",
   "execution_count": null,
   "metadata": {},
   "outputs": [],
   "source": [
    "!pip install pyprind"
   ]
  },
  {
   "cell_type": "code",
   "execution_count": null,
   "metadata": {},
   "outputs": [],
   "source": [
    "import pandas as pd\n",
    "\n",
    "df = pd.read_excel(io = './IssueReport.xls', sheet_name = 'Raw')\n",
    "df = df[['SR NUMBER', 'SR DESCRIPTION']]\n",
    "df_row_count = len(df.index)\n",
    "\n",
    "df.head(5)"
   ]
  },
  {
   "cell_type": "code",
   "execution_count": null,
   "metadata": {},
   "outputs": [],
   "source": [
    "import re\n",
    "import nltk\n",
    "from nltk.stem.porter import PorterStemmer\n",
    "from nltk.corpus import stopwords\n",
    "\n",
    "porter = PorterStemmer()\n",
    "nltk.download('stopwords')\n",
    "stop = stopwords.words('english')\n",
    "\n",
    "def preprocessor_marks(text, regexp, encoded_marks):\n",
    "    marks = re.findall(regexp, text)\n",
    "    marks = [re.sub(regexp, encoded_marks, w) for w in marks]    \n",
    "    marks = ' '.join(marks)\n",
    "    return ' ' + marks + ' '\n",
    "\n",
    "def preprocessor(text):\n",
    "    text = re.sub('<[^>]*>', '', text)\n",
    "    emoticons = re.findall('(?::|;|=)(?:-)?(?:\\)|\\(|D|P)', text)\n",
    "    multipleQuestionMarks = preprocessor_marks(text, '\\?\\?+', '??')\n",
    "    multipleExcalamationMarks = preprocessor_marks(text, '\\!\\!+', '!!')\n",
    "    text = re.sub('[\\W]+', ' ', text.lower())\n",
    "    text = re.sub('[0-9]', '', text)\n",
    "    text = text + ''.join(emoticons).replace('-', '')\n",
    "    text = text + multipleQuestionMarks\n",
    "    text = text + multipleExcalamationMarks\n",
    "    text = tokenizer_porter(text)\n",
    "    text = [w for w in text if w not in stop]\n",
    "    text = ' '.join(text)\n",
    "    return text\n",
    "\n",
    "def tokenizer_porter(text):\n",
    "    return [porter.stem(word) for word in text.split()]"
   ]
  },
  {
   "cell_type": "code",
   "execution_count": 4,
   "metadata": {},
   "outputs": [],
   "source": [
    "from sklearn.cluster import KMeans\n",
    "from sklearn.feature_extraction.text import TfidfVectorizer\n",
    "\n",
    "tfid_vectorizer_vocabulary = {\n",
    "    'fail': 0,\n",
    "    'critic': 1,\n",
    "    'block': 2,\n",
    "    'error': 3,\n",
    "    'delay': 4,\n",
    "    'stuck': 5,\n",
    "    'wrong': 6,\n",
    "    '??': 7,\n",
    "    '!!': 8\n",
    "}\n",
    "\n",
    "def tfid_vectorizer(max_features):\n",
    "    return TfidfVectorizer(max_features = max_features,\n",
    "                           use_idf = False, vocabulary = tfid_vectorizer_vocabulary, preprocessor = preprocessor);\n",
    "\n",
    "def execute_clustering(X, n_clusters):\n",
    "    return KMeans(n_clusters = n_clusters, init='k-means++', max_iter=1000, n_init=1000).fit(X)"
   ]
  },
  {
   "cell_type": "code",
   "execution_count": 5,
   "metadata": {},
   "outputs": [],
   "source": [
    "max_features = 8\n",
    "\n",
    "vectorizer = tfid_vectorizer(max_features)\n",
    "X = vectorizer.transform(df['SR DESCRIPTION']);\n",
    "\n",
    "n_clusters = 1\n",
    "kmeans = execute_clustering(X, n_clusters)"
   ]
  },
  {
   "cell_type": "code",
   "execution_count": 10,
   "metadata": {},
   "outputs": [
    {
     "data": {
      "image/png": "[encoded data removed]",
      "text/plain": [
       "<Figure size 432x288 with 1 Axes>"
      ]
     },
     "metadata": {},
     "output_type": "display_data"
    }
   ],
   "source": [
    "from sklearn.decomposition import PCA\n",
    "import matplotlib.pyplot as plt\n",
    "\n",
    "pca = PCA(n_components=2).fit(X.todense())\n",
    "\n",
    "data2D = pca.transform(X.todense())\n",
    "centers2D = pca.transform(kmeans.cluster_centers_)\n",
    "\n",
    "plt.title(\"The visualization of the clustered data.\")\n",
    "plt.xlabel(\"Feature space for the 1st feature\")\n",
    "plt.ylabel(\"Feature space for the 2nd feature\")\n",
    "\n",
    "plt.scatter(data2D[:,0], data2D[:,1])\n",
    "plt.scatter(centers2D[:,0], centers2D[:,1], \n",
    "            marker='x', s=200, linewidths=3, c='r')\n",
    "plt.show()"
   ]
  },
  {
   "cell_type": "code",
   "execution_count": 7,
   "metadata": {},
   "outputs": [
    {
     "name": "stdout",
     "output_type": "stream",
     "text": [
      "Top terms per cluster:\n",
      "Cluster 0: error fail wrong block delay critic stuck !!\n"
     ]
    }
   ],
   "source": [
    "print(\"Top terms per cluster:\")\n",
    "order_centroids = kmeans.cluster_centers_.argsort()[:, ::-1]\n",
    "terms = vectorizer.get_feature_names()\n",
    "for i in range(n_clusters):\n",
    "    top_ten_words = [terms[ind] for ind in order_centroids[i, :max_features]]\n",
    "    print(\"Cluster {}: {}\".format(i, ' '.join(top_ten_words)))"
   ]
  },
  {
   "cell_type": "code",
   "execution_count": null,
   "metadata": {},
   "outputs": [],
   "source": [
    "from scipy.spatial import distance\n",
    "\n",
    "cluster_center = kmeans.cluster_centers_[0]\n",
    "data_points = X.todense()\n",
    "\n",
    "distances = [distance.euclidean(cluster_center, data_point) for data_point in data_points]\n",
    "\n",
    "df['NEG_DIST'] = distances\n",
    "df.head()"
   ]
  },
  {
   "cell_type": "code",
   "execution_count": 9,
   "metadata": {},
   "outputs": [],
   "source": [
    "df.to_excel('./IssueReport_KMeans_Neg.xls')"
   ]
  }
 ],
 "metadata": {
  "kernelspec": {
   "display_name": "conda_python2",
   "language": "python",
   "name": "conda_python2"
  },
  "language_info": {
   "codemirror_mode": {
    "name": "ipython",
    "version": 2
   },
   "file_extension": ".py",
   "mimetype": "text/x-python",
   "name": "python",
   "nbconvert_exporter": "python",
   "pygments_lexer": "ipython2",
   "version": "2.7.15"
  }
 },
 "nbformat": 4,
 "nbformat_minor": 2
}

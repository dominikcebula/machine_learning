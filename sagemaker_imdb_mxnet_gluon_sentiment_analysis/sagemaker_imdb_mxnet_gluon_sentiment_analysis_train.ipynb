{
 "cells": [
  {
   "cell_type": "code",
   "execution_count": 1,
   "metadata": {},
   "outputs": [],
   "source": [
    "import os\n",
    "import boto3\n",
    "import sagemaker\n",
    "from sagemaker.mxnet import MXNet\n",
    "from sagemaker import get_execution_role\n",
    "\n",
    "sagemaker_session = sagemaker.Session()\n",
    "\n",
    "role = get_execution_role()"
   ]
  },
  {
   "cell_type": "code",
   "execution_count": 2,
   "metadata": {},
   "outputs": [],
   "source": [
    "inputs = sagemaker_session.upload_data(path='data', bucket='dc-machine-learning', key_prefix='mxnet')"
   ]
  },
  {
   "cell_type": "code",
   "execution_count": 3,
   "metadata": {},
   "outputs": [],
   "source": [
    "m = MXNet(\"sentiment.py\",\n",
    "          role=role,\n",
    "          train_instance_count=1,\n",
    "          train_instance_type=\"ml.m4.xlarge\",\n",
    "          framework_version=\"1.2.1\",\n",
    "          hyperparameters={'batch_size': 8,\n",
    "                         'epochs': 2,\n",
    "                         'learning_rate': 0.01,\n",
    "                         'embedding_size': 50, \n",
    "                         'log_interval': 1000})"
   ]
  },
  {
   "cell_type": "code",
   "execution_count": 4,
   "metadata": {},
   "outputs": [
    {
     "name": "stderr",
     "output_type": "stream",
     "text": [
      "INFO:sagemaker:Creating training-job with name: sagemaker-mxnet-2018-09-27-21-17-38-798\n"
     ]
    },
    {
     "name": "stdout",
     "output_type": "stream",
     "text": [
      "2018-09-27 21:17:39 Starting - Starting the training job...\n",
      "Launching requested ML instances...\n",
      "Preparing the instances for training......\n",
      "2018-09-27 21:19:29 Downloading - Downloading input data\n",
      "2018-09-27 21:19:38 Training - Downloading the training image.\n",
      "\u001b[31m2018-09-27 21:19:41,189 INFO - root - running container entrypoint\u001b[0m\n",
      "\u001b[31m2018-09-27 21:19:41,190 INFO - root - starting train task\u001b[0m\n",
      "\u001b[31m2018-09-27 21:19:41,195 INFO - container_support.training - Training starting\u001b[0m\n",
      "\u001b[31m2018-09-27 21:19:42,184 WARNING - mxnet_container.train - #033[1;33mThis required structure for training scripts will be deprecated with the next major release of MXNet images. The train() function will no longer be required; instead the training script must be able to be run as a standalone script. For more information, see https://github.com/aws/sagemaker-python-sdk/tree/master/src/sagemaker/mxnet#updating-your-mxnet-training-script.#033[1;0m\u001b[0m\n",
      "\u001b[31m2018-09-27 21:19:42,195 INFO - mxnet_container.train - MXNetTrainingEnvironment: {'enable_cloudwatch_metrics': False, 'available_gpus': 0, 'channels': {u'training': {u'TrainingInputMode': u'File', u'RecordWrapperType': u'None', u'S3DistributionType': u'FullyReplicated'}}, '_ps_verbose': 0, 'resource_config': {u'hosts': [u'algo-1'], u'network_interface_name': u'ethwe', u'current_host': u'algo-1'}, 'user_script_name': u'sentiment.py', 'input_config_dir': '/opt/ml/input/config', 'channel_dirs': {u'training': u'/opt/ml/input/data/training'}, 'code_dir': '/opt/ml/code', 'output_data_dir': '/opt/ml/output/data/', 'output_dir': '/opt/ml/output', 'model_dir': '/opt/ml/model', 'hyperparameters': {u'sagemaker_program': u'sentiment.py', u'embedding_size': 50, u'learning_rate': 0.01, u'log_interval': 1000, u'epochs': 2, u'batch_size': 8, u'sagemaker_region': u'eu-central-1', u'sagemaker_enable_cloudwatch_metrics': False, u'sagemaker_job_name': u'sagemaker-mxnet-2018-09-27-21-17-38-798', u'sagemaker_container_log_level': 20, u'sagemaker_submit_directory': u's3://sagemaker-eu-central-1-748487307014/sagemaker-mxnet-2018-09-27-21-17-38-798/source/sourcedir.tar.gz'}, 'hosts': [u'algo-1'], 'job_name': 'sagemaker-mxnet-2018-09-27-21-17-38-798', '_ps_port': 8000, 'user_script_archive': u's3://sagemaker-eu-central-1-748487307014/sagemaker-mxnet-2018-09-27-21-17-38-798/source/sourcedir.tar.gz', '_scheduler_host': u'algo-1', 'sagemaker_region': u'eu-central-1', '_scheduler_ip': '10.32.0.4', 'input_dir': '/opt/ml/input', 'user_requirements_file': None, 'current_host': u'algo-1', 'container_log_level': 20, 'available_cpus': 4, 'base_dir': '/opt/ml'}\u001b[0m\n",
      "\u001b[31mDownloading s3://sagemaker-eu-central-1-748487307014/sagemaker-mxnet-2018-09-27-21-17-38-798/source/sourcedir.tar.gz to /tmp/script.tar.gz\u001b[0m\n",
      "\u001b[31m2018-09-27 21:19:42,541 INFO - mxnet_container.train - Starting distributed training task\u001b[0m\n",
      "\u001b[31mWARNING: discarded 106 sentences longer than the largest bucket.\u001b[0m\n",
      "\u001b[31mWARNING: discarded 430 sentences longer than the largest bucket.\u001b[0m\n",
      "\n",
      "Training image download completed. Training in progress.\u001b[31m[Epoch 0 Batch 1000] Training: accuracy=0.857517, 377.801407 samples/s\u001b[0m\n",
      "\u001b[31m[Epoch 0 Batch 2000] Training: accuracy=0.868378, 207.840736 samples/s\u001b[0m\n",
      "\u001b[31m[Epoch 0 Batch 3000] Training: accuracy=0.872584, 199.729951 samples/s\u001b[0m\n",
      "\u001b[31m[Epoch 0 Batch 4000] Training: accuracy=0.874813, 228.832746 samples/s\u001b[0m\n",
      "\u001b[31m[Epoch 0] Training: accuracy=0.878822\u001b[0m\n",
      "\u001b[31m[Epoch 0] Validation: accuracy=0.891628\u001b[0m\n",
      "\u001b[31m[Epoch 1 Batch 1000] Training: accuracy=0.933816, 225.899486 samples/s\u001b[0m\n",
      "\u001b[31m[Epoch 1 Batch 2000] Training: accuracy=0.931472, 224.510438 samples/s\u001b[0m\n",
      "\u001b[31m[Epoch 1 Batch 3000] Training: accuracy=0.929065, 215.989701 samples/s\u001b[0m\n",
      "\u001b[31m[Epoch 1 Batch 4000] Training: accuracy=0.926987, 202.097391 samples/s\u001b[0m\n",
      "\u001b[31m[Epoch 1] Training: accuracy=0.924371\u001b[0m\n",
      "\u001b[31m[Epoch 1] Validation: accuracy=0.889794\u001b[0m\n",
      "\u001b[31mVocabulary saved to \"%s\" /opt/ml/model/vocab.json\u001b[0m\n",
      "\n",
      "2018-09-27 21:25:15 Uploading - Uploading generated training model\n",
      "2018-09-27 21:25:20 Completed - Training job completed\n",
      "Billable seconds: 352\n"
     ]
    }
   ],
   "source": [
    "m.fit(inputs)"
   ]
  },
  {
   "cell_type": "code",
   "execution_count": 5,
   "metadata": {},
   "outputs": [
    {
     "name": "stderr",
     "output_type": "stream",
     "text": [
      "INFO:sagemaker:Creating model with name: sagemaker-mxnet-2018-09-27-21-17-38-798\n",
      "INFO:sagemaker:Creating endpoint with name sagemaker-mxnet-2018-09-27-21-17-38-798\n"
     ]
    },
    {
     "name": "stdout",
     "output_type": "stream",
     "text": [
      "---------------------------------------------------------------!"
     ]
    }
   ],
   "source": [
    "predictor = m.deploy(initial_instance_count=1, instance_type='ml.m4.xlarge')"
   ]
  },
  {
   "cell_type": "code",
   "execution_count": 7,
   "metadata": {},
   "outputs": [
    {
     "name": "stdout",
     "output_type": "stream",
     "text": [
      "<sagemaker.mxnet.model.MXNetPredictor object at 0x7f9d05addd90>\n"
     ]
    }
   ],
   "source": [
    "print(predictor)"
   ]
  },
  {
   "cell_type": "code",
   "execution_count": null,
   "metadata": {},
   "outputs": [],
   "source": []
  }
 ],
 "metadata": {
  "kernelspec": {
   "display_name": "conda_mxnet_p27",
   "language": "python",
   "name": "conda_mxnet_p27"
  },
  "language_info": {
   "codemirror_mode": {
    "name": "ipython",
    "version": 2
   },
   "file_extension": ".py",
   "mimetype": "text/x-python",
   "name": "python",
   "nbconvert_exporter": "python",
   "pygments_lexer": "ipython2",
   "version": "2.7.15"
  }
 },
 "nbformat": 4,
 "nbformat_minor": 2
}

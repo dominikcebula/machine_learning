{
 "cells": [
  {
   "cell_type": "code",
   "execution_count": null,
   "metadata": {},
   "outputs": [],
   "source": [
    "!pip install pyprind\n",
    "!pip install graphviz"
   ]
  },
  {
   "cell_type": "code",
   "execution_count": null,
   "metadata": {},
   "outputs": [],
   "source": [
    "import nltk\n",
    "\n",
    "nltk.download('vader_lexicon')"
   ]
  },
  {
   "cell_type": "code",
   "execution_count": null,
   "metadata": {},
   "outputs": [],
   "source": [
    "import pandas as pd\n",
    "\n",
    "def read_input_data():\n",
    "    df = pd.read_excel(io = './IssueReport.xls', sheet_name = 'Raw')\n",
    "    df = df[['SR NUMBER', 'SEVERITY', 'CUSTOMER PRIORITY', 'SR DESCRIPTION']]\n",
    "    return df\n",
    "\n",
    "df = read_input_data()\n",
    "df_row_count = len(df.index)\n",
    "\n",
    "df.head(5)"
   ]
  },
  {
   "cell_type": "code",
   "execution_count": null,
   "metadata": {},
   "outputs": [],
   "source": [
    "import re\n",
    "from sklearn import preprocessing\n",
    "\n",
    "def preprocessor_description(text):\n",
    "    text = re.sub('<[^>]*>', '', text)\n",
    "    text = re.sub('\\n', ' ', text)\n",
    "    text = re.sub('[^a-zA-Z\\ \\?\\!\\,\\.\\:\\;\\)\\(\\)]', '', text)\n",
    "    text = re.sub('[0-9]', '', text)\n",
    "    text = re.sub('\\ +', ' ', text)\n",
    "    text = text.strip()\n",
    "    return text\n",
    "\n",
    "def preprocessor_sr_number(text):\n",
    "    text = re.findall('[0-9A-Z\\-]', text.upper())\n",
    "    return ''.join(text)\n",
    "\n",
    "def preprocessor_int(text):\n",
    "    text = re.findall('[0-9]+', text)\n",
    "    text = ''.join(text)\n",
    "    if not text:\n",
    "        return 5\n",
    "    else:\n",
    "        return int(text)\n",
    "    \n",
    "def preprocessor_severity(severity):\n",
    "    severity = preprocessor_int(severity)\n",
    "    \n",
    "    if severity <= 2:\n",
    "        return 1\n",
    "    else:\n",
    "        return 0"
   ]
  },
  {
   "cell_type": "code",
   "execution_count": null,
   "metadata": {},
   "outputs": [],
   "source": [
    "import pyprind\n",
    "\n",
    "pbar = pyprind.ProgBar(df_row_count)\n",
    "le = preprocessing.LabelEncoder()\n",
    "\n",
    "def preprocess_data():\n",
    "    for index, row in df.iterrows():\n",
    "        df.at[index, 'SR NUMBER'] = preprocessor_sr_number(row['SR NUMBER'])\n",
    "        df.at[index, 'SR DESCRIPTION CLEAN'] = preprocessor_description(row['SR DESCRIPTION'])\n",
    "        df.at[index, 'CUSTOMER PRIORITY'] = preprocessor_int(row['CUSTOMER PRIORITY'])\n",
    "\n",
    "        severity = row['SEVERITY']\n",
    "        df.at[index, 'SEVERITY'] = preprocessor_int(severity)\n",
    "        df.at[index, 'URGENT'] = preprocessor_severity(severity)\n",
    "        pbar.update()\n",
    "\n",
    "    df['URGENT'] = df['URGENT'].astype(int)\n",
    "    \n",
    "preprocess_data()\n",
    "    \n",
    "df.head(5)"
   ]
  },
  {
   "cell_type": "code",
   "execution_count": null,
   "metadata": {},
   "outputs": [],
   "source": [
    "from nltk.sentiment.vader import SentimentIntensityAnalyzer\n",
    "\n",
    "sentimentAnalyzer = SentimentIntensityAnalyzer()\n",
    "pbar = pyprind.ProgBar(df_row_count)\n",
    "\n",
    "def assign_polarity():\n",
    "    for index, row in df.iterrows():\n",
    "        polarity = sentimentAnalyzer.polarity_scores(df.at[index, 'SR DESCRIPTION CLEAN'])\n",
    "        df.at[index, 'POLARITY'] = polarity['compound']\n",
    "        pbar.update()\n",
    "\n",
    "assign_polarity()\n",
    "        \n",
    "df = df[['SR NUMBER', 'SR DESCRIPTION', 'SR DESCRIPTION CLEAN', 'POLARITY', 'CUSTOMER PRIORITY', 'SEVERITY', 'URGENT']]\n",
    "df.head()"
   ]
  },
  {
   "cell_type": "code",
   "execution_count": null,
   "metadata": {},
   "outputs": [],
   "source": [
    "df.to_excel('./IssueReport_Polarity_Severity_Urgent.xls')"
   ]
  },
  {
   "cell_type": "code",
   "execution_count": null,
   "metadata": {},
   "outputs": [],
   "source": [
    "from sklearn.model_selection import train_test_split\n",
    "\n",
    "X = df[['POLARITY', 'CUSTOMER PRIORITY']].values\n",
    "y = df['URGENT'].values"
   ]
  },
  {
   "cell_type": "code",
   "execution_count": null,
   "metadata": {},
   "outputs": [],
   "source": [
    "from sklearn import tree\n",
    "\n",
    "clf = tree.DecisionTreeClassifier()\n",
    "clf.fit(X = X, y = y)"
   ]
  },
  {
   "cell_type": "code",
   "execution_count": null,
   "metadata": {},
   "outputs": [],
   "source": [
    "import graphviz\n",
    "\n",
    "dot_data = tree.export_graphviz(\n",
    "    decision_tree = clf,\n",
    "    out_file = None,\n",
    "    feature_names = ['POLARITY', 'CUSTOMER PRIORITY'],\n",
    "    class_names = ['URGENT', 'NOT-URGENT']\n",
    ")\n",
    "graph = graphviz.Source(dot_data)\n",
    "graph"
   ]
  },
  {
   "cell_type": "code",
   "execution_count": null,
   "metadata": {},
   "outputs": [],
   "source": [
    "def predict(customer_priority, description):\n",
    "    description = preprocessor_description(description)\n",
    "    \n",
    "    polarity = sentimentAnalyzer.polarity_scores(description)\n",
    "    polarity_compund = polarity['compound']\n",
    "    \n",
    "    customer_priority = preprocessor_int(customer_priority)\n",
    "    \n",
    "    X = [[polarity_compund, customer_priority]]\n",
    "    \n",
    "    return clf.predict(X)"
   ]
  },
  {
   "cell_type": "code",
   "execution_count": null,
   "metadata": {},
   "outputs": [],
   "source": [
    "df = read_input_data()\n",
    "df_row_count = len(df.index)\n",
    "\n",
    "pbar = pyprind.ProgBar(df_row_count)\n",
    "\n",
    "def preprocess_for_prediction():\n",
    "    for index, row in df.iterrows():\n",
    "        customer_priority = row['CUSTOMER PRIORITY']\n",
    "        description = row['SR DESCRIPTION']\n",
    "        severity = row['SEVERITY']\n",
    "\n",
    "        df.at[index, 'URGENT'] = preprocessor_severity(severity)\n",
    "        df.at[index, 'URGENT_P'] = predict(customer_priority, description)\n",
    "\n",
    "        pbar.update()\n",
    "    \n",
    "preprocess_for_prediction()\n",
    "    \n",
    "df.head()"
   ]
  },
  {
   "cell_type": "code",
   "execution_count": null,
   "metadata": {},
   "outputs": [],
   "source": [
    "df = df[['SR NUMBER', 'SR DESCRIPTION', 'CUSTOMER PRIORITY', 'SEVERITY', 'URGENT', 'URGENT_P']]\n",
    "\n",
    "df.to_excel('./IssueReport_Tree_Predicted.xls')"
   ]
  },
  {
   "cell_type": "code",
   "execution_count": null,
   "metadata": {},
   "outputs": [],
   "source": [
    "number_of_equals = 0\n",
    "\n",
    "for index, row in df.iterrows():\n",
    "    if row['URGENT'] == row['URGENT_P']:\n",
    "        number_of_equals = number_of_equals + 1\n",
    "        \n",
    "        \n",
    "float(number_of_equals) / df_row_count"
   ]
  }
 ],
 "metadata": {
  "kernelspec": {
   "display_name": "conda_python2",
   "language": "python",
   "name": "conda_python2"
  },
  "language_info": {
   "codemirror_mode": {
    "name": "ipython",
    "version": 2
   },
   "file_extension": ".py",
   "mimetype": "text/x-python",
   "name": "python",
   "nbconvert_exporter": "python",
   "pygments_lexer": "ipython2",
   "version": "2.7.15"
  }
 },
 "nbformat": 4,
 "nbformat_minor": 2
}
